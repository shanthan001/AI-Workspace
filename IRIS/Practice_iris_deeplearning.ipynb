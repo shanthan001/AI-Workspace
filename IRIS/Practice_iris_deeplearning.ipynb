{
 "cells": [
  {
   "cell_type": "code",
   "execution_count": null,
   "id": "5b6da9a2",
   "metadata": {},
   "outputs": [],
   "source": [
    "!pip install sklearn\n",
    "!pip install pandas\n",
    "!pip install tensorflow\n",
    "!pip install matplotlib"
   ]
  },
  {
   "cell_type": "code",
   "execution_count": 20,
   "id": "6ac169af",
   "metadata": {},
   "outputs": [
    {
     "data": {
      "text/html": [
       "<div>\n",
       "<style scoped>\n",
       "    .dataframe tbody tr th:only-of-type {\n",
       "        vertical-align: middle;\n",
       "    }\n",
       "\n",
       "    .dataframe tbody tr th {\n",
       "        vertical-align: top;\n",
       "    }\n",
       "\n",
       "    .dataframe thead th {\n",
       "        text-align: right;\n",
       "    }\n",
       "</style>\n",
       "<table border=\"1\" class=\"dataframe\">\n",
       "  <thead>\n",
       "    <tr style=\"text-align: right;\">\n",
       "      <th></th>\n",
       "      <th>Sepal.Length</th>\n",
       "      <th>Sepal.Width</th>\n",
       "      <th>Petal.Length</th>\n",
       "      <th>Petal.Width</th>\n",
       "      <th>Species</th>\n",
       "    </tr>\n",
       "  </thead>\n",
       "  <tbody>\n",
       "    <tr>\n",
       "      <th>0</th>\n",
       "      <td>5.1</td>\n",
       "      <td>3.5</td>\n",
       "      <td>1.4</td>\n",
       "      <td>0.2</td>\n",
       "      <td>setosa</td>\n",
       "    </tr>\n",
       "    <tr>\n",
       "      <th>1</th>\n",
       "      <td>4.9</td>\n",
       "      <td>3.0</td>\n",
       "      <td>1.4</td>\n",
       "      <td>0.2</td>\n",
       "      <td>setosa</td>\n",
       "    </tr>\n",
       "    <tr>\n",
       "      <th>2</th>\n",
       "      <td>4.7</td>\n",
       "      <td>3.2</td>\n",
       "      <td>1.3</td>\n",
       "      <td>0.2</td>\n",
       "      <td>setosa</td>\n",
       "    </tr>\n",
       "    <tr>\n",
       "      <th>3</th>\n",
       "      <td>4.6</td>\n",
       "      <td>3.1</td>\n",
       "      <td>1.5</td>\n",
       "      <td>0.2</td>\n",
       "      <td>setosa</td>\n",
       "    </tr>\n",
       "    <tr>\n",
       "      <th>4</th>\n",
       "      <td>5.0</td>\n",
       "      <td>3.6</td>\n",
       "      <td>1.4</td>\n",
       "      <td>0.2</td>\n",
       "      <td>setosa</td>\n",
       "    </tr>\n",
       "  </tbody>\n",
       "</table>\n",
       "</div>"
      ],
      "text/plain": [
       "   Sepal.Length  Sepal.Width  Petal.Length  Petal.Width Species\n",
       "0           5.1          3.5           1.4          0.2  setosa\n",
       "1           4.9          3.0           1.4          0.2  setosa\n",
       "2           4.7          3.2           1.3          0.2  setosa\n",
       "3           4.6          3.1           1.5          0.2  setosa\n",
       "4           5.0          3.6           1.4          0.2  setosa"
      ]
     },
     "execution_count": 20,
     "metadata": {},
     "output_type": "execute_result"
    }
   ],
   "source": [
    "import numpy as np\n",
    "import pandas as pd\n",
    "import os\n",
    "import tensorflow as tf\n",
    "import sklearn\n",
    "from sklearn.model_selection import train_test_split\n",
    "from sklearn.preprocessing import StandardScaler\n",
    "\n",
    "# read iris.csv file using pandas\n",
    "iris_data = pd.read_csv('iris.csv')\n",
    "\n",
    "# read the head of csv and print\n",
    "iris_data.head()"
   ]
  },
  {
   "cell_type": "code",
   "execution_count": 21,
   "id": "b6c44331",
   "metadata": {},
   "outputs": [],
   "source": [
    "# Here label is 'Species' column and features are all the other columns\n",
    "# Convert 'Species' column to numeric value\n",
    "\n",
    "# Use label encoder function using sklearn\n",
    "from sklearn import preprocessing\n",
    "\n",
    "# Use instance of LabelEncoder\n",
    "label_encoder = preprocessing.LabelEncoder()\n",
    "\n",
    "# fit_transform function helps in transforming string labels to numerics\n",
    "iris_data['Species'] = label_encoder.fit_transform(iris_data['Species'])\n",
    "\n",
    "# Convert iris_data to numpy array\n",
    "iris_data = iris_data.to_numpy()\n"
   ]
  },
  {
   "cell_type": "code",
   "execution_count": 22,
   "id": "d0648bae",
   "metadata": {},
   "outputs": [
    {
     "name": "stdout",
     "output_type": "stream",
     "text": [
      "\n",
      "Features before scaling :\n",
      "----------------------\n",
      "[[5.1 3.5 1.4 0.2]\n",
      " [4.9 3.  1.4 0.2]\n",
      " [4.7 3.2 1.3 0.2]\n",
      " [4.6 3.1 1.5 0.2]\n",
      " [5.  3.6 1.4 0.2]]\n",
      "\n",
      "Targets before scaling :\n",
      "------------------------\n",
      "[0. 0. 0. 0. 0.]\n"
     ]
    }
   ],
   "source": [
    "\n",
    "# Seperate labels and features\n",
    "x_data = iris_data[:,:4]\n",
    "y_data = iris_data[:,4]\n",
    "\n",
    "print(\"\\nFeatures before scaling :\\n----------------------\")\n",
    "print(x_data[:5,:])\n",
    "print(\"\\nTargets before scaling :\\n------------------------\")\n",
    "print(y_data[:5])"
   ]
  },
  {
   "cell_type": "code",
   "execution_count": 23,
   "id": "80d0e060",
   "metadata": {
    "scrolled": true
   },
   "outputs": [
    {
     "name": "stdout",
     "output_type": "stream",
     "text": [
      "\n",
      "Features after scaling :\n",
      "----------------------\n",
      "[[-0.90068117  1.01900435 -1.34022653 -1.3154443 ]\n",
      " [-1.14301691 -0.13197948 -1.34022653 -1.3154443 ]\n",
      " [-1.38535265  0.32841405 -1.39706395 -1.3154443 ]\n",
      " [-1.50652052  0.09821729 -1.2833891  -1.3154443 ]\n",
      " [-1.02184904  1.24920112 -1.34022653 -1.3154443 ]]\n",
      "\n",
      "Targets after scaling :\n",
      "----------------------\n",
      "[[1. 0. 0.]\n",
      " [1. 0. 0.]\n",
      " [1. 0. 0.]\n",
      " [1. 0. 0.]\n",
      " [1. 0. 0.]]\n"
     ]
    }
   ],
   "source": [
    "# Perform feature scaling in order to normalise the features for our ML model\n",
    "# Create a scaler model that is fit on the input data\n",
    "scaler = StandardScaler().fit(x_data)\n",
    "\n",
    "# Scale the numeric feature variables\n",
    "x_data = scaler.transform(x_data)\n",
    "\n",
    "# Convert target variables to one-hot-encoding array\n",
    "y_data = tf.keras.utils.to_categorical(y_data,3)\n",
    "\n",
    "print(\"\\nFeatures after scaling :\\n----------------------\")\n",
    "print(x_data[:5,:])\n",
    "print(\"\\nTargets after scaling :\\n----------------------\")\n",
    "print(y_data[:5])"
   ]
  },
  {
   "cell_type": "code",
   "execution_count": 25,
   "id": "6021bddf",
   "metadata": {
    "scrolled": true
   },
   "outputs": [
    {
     "name": "stdout",
     "output_type": "stream",
     "text": [
      "\n",
      "Train and Test Dimensions:\n",
      "--------------------------------\n",
      "(135, 4) (135, 3) (15, 4) (15, 3)\n"
     ]
    }
   ],
   "source": [
    "# Split the training and test data\n",
    "x_train,x_test,y_train,y_test = train_test_split(x_data,y_data,test_size=0.10)\n",
    "print(\"\\nTrain and Test Dimensions:\\n--------------------------------\")\n",
    "print(x_train.shape,y_train.shape,x_test.shape,y_test.shape)"
   ]
  },
  {
   "cell_type": "markdown",
   "id": "f599f84e",
   "metadata": {},
   "source": [
    "**Creating a Model**\n",
    "\n",
    "Creating a model in keras requires defining the following\n",
    "\n",
    "1. Number of hidden layers.\n",
    "2. Number of nodes in each layer.\n",
    "3. Activation functions.\n",
    "4. Loss function and accuracy measurements."
   ]
  },
  {
   "cell_type": "code",
   "execution_count": 26,
   "id": "01fa7589",
   "metadata": {},
   "outputs": [
    {
     "name": "stdout",
     "output_type": "stream",
     "text": [
      "Model: \"sequential\"\n",
      "_________________________________________________________________\n",
      " Layer (type)                Output Shape              Param #   \n",
      "=================================================================\n",
      " Hidden-Layer-1 (Dense)      (None, 128)               640       \n",
      "                                                                 \n",
      " Hidden-Layer-2 (Dense)      (None, 128)               16512     \n",
      "                                                                 \n",
      " Output-Layer (Dense)        (None, 3)                 387       \n",
      "                                                                 \n",
      "=================================================================\n",
      "Total params: 17,539\n",
      "Trainable params: 17,539\n",
      "Non-trainable params: 0\n",
      "_________________________________________________________________\n"
     ]
    }
   ],
   "source": [
    "from tensorflow import keras\n",
    "\n",
    "# Number of classes in the target variable\n",
    "NB_classes = 3\n",
    "\n",
    "# Create a sequential model in the keras\n",
    "model = tf.keras.models.Sequential()\n",
    "\n",
    "# Add the first hidden layer\n",
    "model.add(keras.layers.Dense(128,   # number of nodes\n",
    "                             input_shape = (4,), # number of input variables\n",
    "                             name = \"Hidden-Layer-1\", # logical name\n",
    "                             activation = 'relu')) # activation function\n",
    "\n",
    "# Add the second hidden layer\n",
    "model.add(keras.layers.Dense(128,\n",
    "                             name=\"Hidden-Layer-2\",\n",
    "                             activation='relu'))\n",
    "\n",
    "# Add the output layer with softmax activation\n",
    "model.add(keras.layers.Dense(NB_classes,\n",
    "                            name=\"Output-Layer\",\n",
    "                            activation='softmax'))\n",
    "\n",
    "# Compile the model with loss & metrics\n",
    "model.compile(loss='categorical_crossentropy',\n",
    "             metrics=['accuracy'])\n",
    "\n",
    "# Print the model meta-data\n",
    "model.summary()"
   ]
  },
  {
   "cell_type": "markdown",
   "id": "f6494f2b",
   "metadata": {},
   "source": [
    "**Training and Evaluating the Model**\n",
    "\n",
    "\n",
    "Training the model involves defining various training models and then perform forward and backward propogation"
   ]
  },
  {
   "cell_type": "code",
   "execution_count": 27,
   "id": "2334f783",
   "metadata": {},
   "outputs": [
    {
     "name": "stdout",
     "output_type": "stream",
     "text": [
      "\n",
      "Training Progress:\n",
      "------------------------\n",
      "Epoch 1/10\n",
      "1/7 [===>..........................] - ETA: 0s - loss: 1.0350 - accuracy: 0.3125"
     ]
    },
    {
     "name": "stderr",
     "output_type": "stream",
     "text": [
      "2023-11-15 19:23:58.390038: W tensorflow/tsl/platform/profile_utils/cpu_utils.cc:128] Failed to get CPU frequency: 0 Hz\n"
     ]
    },
    {
     "name": "stdout",
     "output_type": "stream",
     "text": [
      "7/7 [==============================] - 0s 11ms/step - loss: 0.8099 - accuracy: 0.7222 - val_loss: 0.5251 - val_accuracy: 0.9259\n",
      "Epoch 2/10\n",
      "7/7 [==============================] - 0s 2ms/step - loss: 0.5431 - accuracy: 0.8333 - val_loss: 0.3789 - val_accuracy: 0.8889\n",
      "Epoch 3/10\n",
      "7/7 [==============================] - 0s 2ms/step - loss: 0.4318 - accuracy: 0.8519 - val_loss: 0.3051 - val_accuracy: 0.8889\n",
      "Epoch 4/10\n",
      "7/7 [==============================] - 0s 2ms/step - loss: 0.3686 - accuracy: 0.8519 - val_loss: 0.2716 - val_accuracy: 0.8889\n",
      "Epoch 5/10\n",
      "7/7 [==============================] - 0s 2ms/step - loss: 0.3244 - accuracy: 0.8611 - val_loss: 0.2499 - val_accuracy: 0.8889\n",
      "Epoch 6/10\n",
      "7/7 [==============================] - 0s 2ms/step - loss: 0.2890 - accuracy: 0.8611 - val_loss: 0.2384 - val_accuracy: 0.8889\n",
      "Epoch 7/10\n",
      "7/7 [==============================] - 0s 2ms/step - loss: 0.2644 - accuracy: 0.8796 - val_loss: 0.2207 - val_accuracy: 0.8889\n",
      "Epoch 8/10\n",
      "7/7 [==============================] - 0s 2ms/step - loss: 0.2424 - accuracy: 0.8796 - val_loss: 0.2332 - val_accuracy: 0.8889\n",
      "Epoch 9/10\n",
      "7/7 [==============================] - 0s 2ms/step - loss: 0.2240 - accuracy: 0.8889 - val_loss: 0.2204 - val_accuracy: 0.8889\n",
      "Epoch 10/10\n",
      "7/7 [==============================] - 0s 2ms/step - loss: 0.2004 - accuracy: 0.9074 - val_loss: 0.2353 - val_accuracy: 0.8889\n",
      "\n",
      "Accuracy during Training:\n",
      "------------------\n"
     ]
    }
   ],
   "source": [
    "# Make Verbose as 1,so as to see detailed logging info - Model explains each and everything that is going on\n",
    "VERBOSE = 1\n",
    "\n",
    "# Setup the Hyper parameters for training\n",
    "\n",
    "# set the batch size\n",
    "BATCH_SIZE = 16\n",
    "# set number of epochs\n",
    "EPOCHS = 10\n",
    "# set validation split. set 20% of training data to validation\n",
    "VALIDATION_SPLIT = 0.2\n",
    "\n",
    "print(\"\\nTraining Progress:\\n------------------------\")\n",
    "\n",
    "# fit the model. This will perform entire training cycle, including\n",
    "# forward propogation, loss computation, backward propogation, gradient descent\n",
    "# execute for the specified batch sized and epoch\n",
    "# perform validation after each epoch\n",
    "\n",
    "history = model.fit(x_train,\n",
    "                    y_train,\n",
    "                    batch_size=BATCH_SIZE,\n",
    "                    epochs=EPOCHS,\n",
    "                    validation_split=VALIDATION_SPLIT)\n"
   ]
  },
  {
   "cell_type": "code",
   "execution_count": 28,
   "id": "6220c68c",
   "metadata": {},
   "outputs": [
    {
     "name": "stdout",
     "output_type": "stream",
     "text": [
      "\n",
      "Accuracy during Training:\n",
      "------------------\n"
     ]
    },
    {
     "data": {
      "image/png": "[encoded data removed]",
      "text/plain": [
       "<Figure size 800x500 with 1 Axes>"
      ]
     },
     "metadata": {},
     "output_type": "display_data"
    }
   ],
   "source": [
    "print(\"\\nAccuracy during Training:\\n------------------\")\n",
    "import matplotlib.pyplot as plt\n",
    "\n",
    "# plot accuracy of model after each epoch\n",
    "pd.DataFrame(history.history)[\"accuracy\"].plot(figsize=(8,5))\n",
    "plt.title(\"Accuracy improvements with epoch\")\n",
    "plt.show()"
   ]
  },
  {
   "cell_type": "code",
   "execution_count": 29,
   "id": "a30ede2c",
   "metadata": {},
   "outputs": [
    {
     "name": "stdout",
     "output_type": "stream",
     "text": [
      "\n",
      "Evaluating against Test Data\n",
      "----------------\n",
      "1/1 [==============================] - 0s 18ms/step - loss: 0.3143 - accuracy: 0.9333\n"
     ]
    },
    {
     "data": {
      "text/plain": [
       "[0.3143291175365448, 0.9333333373069763]"
      ]
     },
     "execution_count": 29,
     "metadata": {},
     "output_type": "execute_result"
    }
   ],
   "source": [
    "# Evaluate the model against test datasets and print results\n",
    "print(\"\\nEvaluating against Test Data\\n----------------\")\n",
    "model.evaluate(x_test,y_test)"
   ]
  },
  {
   "cell_type": "markdown",
   "id": "e90e9d65",
   "metadata": {},
   "source": [
    "**Saving and Loading Models**\n",
    "\n",
    "The training and inference environments are usually seperate. Models need to be saved after they are validated. They are then loaded to inference environments for actual prediction"
   ]
  },
  {
   "cell_type": "code",
   "execution_count": 30,
   "id": "2490c58d",
   "metadata": {},
   "outputs": [
    {
     "name": "stderr",
     "output_type": "stream",
     "text": [
      "WARNING:absl:Function `_wrapped_model` contains input name(s) Hidden-Layer-1_input with unsupported characters which will be renamed to hidden_layer_1_input in the SavedModel.\n",
      "WARNING:absl:Found untraced functions such as _update_step_xla while saving (showing 1 of 1). These functions will not be directly callable after loading.\n"
     ]
    },
    {
     "name": "stdout",
     "output_type": "stream",
     "text": [
      "INFO:tensorflow:Assets written to: iris_save/assets\n"
     ]
    },
    {
     "name": "stderr",
     "output_type": "stream",
     "text": [
      "INFO:tensorflow:Assets written to: iris_save/assets\n"
     ]
    },
    {
     "name": "stdout",
     "output_type": "stream",
     "text": [
      "Model: \"sequential\"\n",
      "_________________________________________________________________\n",
      " Layer (type)                Output Shape              Param #   \n",
      "=================================================================\n",
      " Hidden-Layer-1 (Dense)      (None, 128)               640       \n",
      "                                                                 \n",
      " Hidden-Layer-2 (Dense)      (None, 128)               16512     \n",
      "                                                                 \n",
      " Output-Layer (Dense)        (None, 3)                 387       \n",
      "                                                                 \n",
      "=================================================================\n",
      "Total params: 17,539\n",
      "Trainable params: 17,539\n",
      "Non-trainable params: 0\n",
      "_________________________________________________________________\n"
     ]
    }
   ],
   "source": [
    "# Save the model\n",
    "model.save('iris_save')\n",
    "\n",
    "# load the model\n",
    "loaded_model = keras.models.load_model('iris_save')\n",
    "\n",
    "# print model summary\n",
    "loaded_model.summary()"
   ]
  },
  {
   "cell_type": "code",
   "execution_count": null,
   "id": "11345db9",
   "metadata": {},
   "outputs": [],
   "source": [
    "# Let's do some raw prediction\n",
    "prediction_input = [[6.6, 3., 4.4, 1.4]]\n",
    "\n",
    "# scale the input\n",
    "scaled_input = scaler.transform(prediction_input)\n",
    "\n",
    "# Get raw prediction probabilities for each category\n",
    "raw_prediction = model.predict(scaled_input)\n",
    "print(\"Raw Predicition Output for each category: \",raw_prediction)\n",
    "\n",
    "# Get the argmax in raw_predicition and get the output\n",
    "prediction = np.argmax(raw_prediction)\n",
    "print(\"Prediction is: \",label_encoder.inverse_transform(prediction))"
   ]
  }
 ],
 "metadata": {
  "kernelspec": {
   "display_name": "Python 3 (ipykernel)",
   "language": "python",
   "name": "python3"
  },
  "language_info": {
   "codemirror_mode": {
    "name": "ipython",
    "version": 3
   },
   "file_extension": ".py",
   "mimetype": "text/x-python",
   "name": "python",
   "nbconvert_exporter": "python",
   "pygments_lexer": "ipython3",
   "version": "3.8.18"
  }
 },
 "nbformat": 4,
 "nbformat_minor": 5
}
