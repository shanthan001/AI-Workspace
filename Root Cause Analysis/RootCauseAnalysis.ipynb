{
 "cells": [
  {
   "cell_type": "code",
   "execution_count": 18,
   "id": "994e7cc8",
   "metadata": {},
   "outputs": [],
   "source": [
    "import pandas as pd\n",
    "import os\n",
    "import matplotlib.pyplot as plt\n",
    "import tensorflow as tf\n",
    "import nltk\n",
    "from sklearn import preprocessing\n",
    "from sklearn.model_selection import train_test_split"
   ]
  },
  {
   "cell_type": "code",
   "execution_count": 19,
   "id": "6696f96c",
   "metadata": {},
   "outputs": [
    {
     "name": "stdout",
     "output_type": "stream",
     "text": [
      "\n",
      "Data type\n",
      "--------------\n",
      "ID                   int64\n",
      "CPU_LOAD             int64\n",
      "MEMORY_LEAK_LOAD     int64\n",
      "DELAY                int64\n",
      "ERROR_1000           int64\n",
      "ERROR_1001           int64\n",
      "ERROR_1002           int64\n",
      "ERROR_1003           int64\n",
      "ROOT_CAUSE          object\n",
      "dtype: object\n",
      "\n",
      "input data\n",
      "----------------\n"
     ]
    },
    {
     "data": {
      "text/html": [
       "<div>\n",
       "<style scoped>\n",
       "    .dataframe tbody tr th:only-of-type {\n",
       "        vertical-align: middle;\n",
       "    }\n",
       "\n",
       "    .dataframe tbody tr th {\n",
       "        vertical-align: top;\n",
       "    }\n",
       "\n",
       "    .dataframe thead th {\n",
       "        text-align: right;\n",
       "    }\n",
       "</style>\n",
       "<table border=\"1\" class=\"dataframe\">\n",
       "  <thead>\n",
       "    <tr style=\"text-align: right;\">\n",
       "      <th></th>\n",
       "      <th>ID</th>\n",
       "      <th>CPU_LOAD</th>\n",
       "      <th>MEMORY_LEAK_LOAD</th>\n",
       "      <th>DELAY</th>\n",
       "      <th>ERROR_1000</th>\n",
       "      <th>ERROR_1001</th>\n",
       "      <th>ERROR_1002</th>\n",
       "      <th>ERROR_1003</th>\n",
       "      <th>ROOT_CAUSE</th>\n",
       "    </tr>\n",
       "  </thead>\n",
       "  <tbody>\n",
       "    <tr>\n",
       "      <th>0</th>\n",
       "      <td>1</td>\n",
       "      <td>0</td>\n",
       "      <td>0</td>\n",
       "      <td>0</td>\n",
       "      <td>0</td>\n",
       "      <td>1</td>\n",
       "      <td>0</td>\n",
       "      <td>1</td>\n",
       "      <td>MEMORY_LEAK</td>\n",
       "    </tr>\n",
       "    <tr>\n",
       "      <th>1</th>\n",
       "      <td>2</td>\n",
       "      <td>0</td>\n",
       "      <td>0</td>\n",
       "      <td>0</td>\n",
       "      <td>0</td>\n",
       "      <td>0</td>\n",
       "      <td>0</td>\n",
       "      <td>1</td>\n",
       "      <td>MEMORY_LEAK</td>\n",
       "    </tr>\n",
       "    <tr>\n",
       "      <th>2</th>\n",
       "      <td>3</td>\n",
       "      <td>0</td>\n",
       "      <td>1</td>\n",
       "      <td>1</td>\n",
       "      <td>0</td>\n",
       "      <td>0</td>\n",
       "      <td>1</td>\n",
       "      <td>1</td>\n",
       "      <td>MEMORY_LEAK</td>\n",
       "    </tr>\n",
       "    <tr>\n",
       "      <th>3</th>\n",
       "      <td>4</td>\n",
       "      <td>0</td>\n",
       "      <td>1</td>\n",
       "      <td>0</td>\n",
       "      <td>1</td>\n",
       "      <td>1</td>\n",
       "      <td>0</td>\n",
       "      <td>1</td>\n",
       "      <td>MEMORY_LEAK</td>\n",
       "    </tr>\n",
       "    <tr>\n",
       "      <th>4</th>\n",
       "      <td>5</td>\n",
       "      <td>1</td>\n",
       "      <td>1</td>\n",
       "      <td>0</td>\n",
       "      <td>1</td>\n",
       "      <td>0</td>\n",
       "      <td>1</td>\n",
       "      <td>0</td>\n",
       "      <td>NETWORK_DELAY</td>\n",
       "    </tr>\n",
       "  </tbody>\n",
       "</table>\n",
       "</div>"
      ],
      "text/plain": [
       "   ID  CPU_LOAD  MEMORY_LEAK_LOAD  DELAY  ERROR_1000  ERROR_1001  ERROR_1002  \\\n",
       "0   1         0                 0      0           0           1           0   \n",
       "1   2         0                 0      0           0           0           0   \n",
       "2   3         0                 1      1           0           0           1   \n",
       "3   4         0                 1      0           1           1           0   \n",
       "4   5         1                 1      0           1           0           1   \n",
       "\n",
       "   ERROR_1003     ROOT_CAUSE  \n",
       "0           1    MEMORY_LEAK  \n",
       "1           1    MEMORY_LEAK  \n",
       "2           1    MEMORY_LEAK  \n",
       "3           1    MEMORY_LEAK  \n",
       "4           0  NETWORK_DELAY  "
      ]
     },
     "execution_count": 19,
     "metadata": {},
     "output_type": "execute_result"
    }
   ],
   "source": [
    "# read the csv file\n",
    "input_data = pd.read_csv('root_cause_analysis.csv')\n",
    "\n",
    "print(\"\\nData type\\n--------------\")\n",
    "print(input_data.dtypes)\n",
    "print(\"\\ninput data\\n----------------\")\n",
    "input_data.head()"
   ]
  },
  {
   "cell_type": "code",
   "execution_count": 20,
   "id": "eee7301e",
   "metadata": {},
   "outputs": [],
   "source": [
    "# Convert target variable to numeric representation\n",
    "label_encoder = preprocessing.LabelEncoder()\n",
    "input_data['ROOT_CAUSE'] = label_encoder.fit_transform(input_data['ROOT_CAUSE'])\n",
    "\n",
    "# convert to numpy array\n",
    "input_data = input_data.to_numpy().astype(float)"
   ]
  },
  {
   "cell_type": "code",
   "execution_count": 22,
   "id": "e0ebce5c",
   "metadata": {},
   "outputs": [
    {
     "name": "stdout",
     "output_type": "stream",
     "text": [
      "\n",
      "Training feature data size:  (900, 7)\n",
      "\n",
      "Training target data size:  (900, 3)\n"
     ]
    }
   ],
   "source": [
    "# split the data\n",
    "x_data = input_data[:,1:8]\n",
    "y_data = input_data[:,8]\n",
    "\n",
    "# convert target variable to one-hot-encoding array\n",
    "y_data = tf.keras.utils.to_categorical(y_data,3)\n",
    "\n",
    "x_train,x_test,y_train,y_test = train_test_split(x_data,y_data,test_size=0.1)\n",
    "\n",
    "print(\"\\nTraining feature data size: \",x_train.shape)\n",
    "print(\"\\nTraining target data size: \",y_train.shape)"
   ]
  },
  {
   "cell_type": "code",
   "execution_count": 27,
   "id": "a40e4178",
   "metadata": {},
   "outputs": [
    {
     "name": "stdout",
     "output_type": "stream",
     "text": [
      "Model: \"sequential_1\"\n",
      "_________________________________________________________________\n",
      " Layer (type)                Output Shape              Param #   \n",
      "=================================================================\n",
      " Hidden_layer_1 (Dense)      (None, 128)               1024      \n",
      "                                                                 \n",
      " Hidden_layer_2 (Dense)      (None, 128)               16512     \n",
      "                                                                 \n",
      " Output_layer (Dense)        (None, 3)                 387       \n",
      "                                                                 \n",
      "=================================================================\n",
      "Total params: 17,923\n",
      "Trainable params: 17,923\n",
      "Non-trainable params: 0\n",
      "_________________________________________________________________\n",
      "\n",
      "Training in progress\n",
      "------------------\n",
      "Epoch 1/20\n",
      "13/13 [==============================] - 0s 4ms/step - loss: 0.8706 - accuracy: 0.6963 - val_loss: 0.7367 - val_accuracy: 0.7700\n",
      "Epoch 2/20\n",
      "13/13 [==============================] - 0s 1ms/step - loss: 0.5997 - accuracy: 0.8050 - val_loss: 0.5945 - val_accuracy: 0.7700\n",
      "Epoch 3/20\n",
      "13/13 [==============================] - 0s 1ms/step - loss: 0.5013 - accuracy: 0.8238 - val_loss: 0.5912 - val_accuracy: 0.7700\n",
      "Epoch 4/20\n",
      "13/13 [==============================] - 0s 1ms/step - loss: 0.4677 - accuracy: 0.8250 - val_loss: 0.5695 - val_accuracy: 0.7600\n",
      "Epoch 5/20\n",
      "13/13 [==============================] - 0s 1ms/step - loss: 0.4483 - accuracy: 0.8213 - val_loss: 0.5639 - val_accuracy: 0.8000\n",
      "Epoch 6/20\n",
      "13/13 [==============================] - 0s 1ms/step - loss: 0.4390 - accuracy: 0.8338 - val_loss: 0.5389 - val_accuracy: 0.7900\n",
      "Epoch 7/20\n",
      "13/13 [==============================] - 0s 1ms/step - loss: 0.4353 - accuracy: 0.8425 - val_loss: 0.5310 - val_accuracy: 0.7900\n",
      "Epoch 8/20\n",
      "13/13 [==============================] - 0s 1ms/step - loss: 0.4281 - accuracy: 0.8325 - val_loss: 0.5184 - val_accuracy: 0.7900\n",
      "Epoch 9/20\n",
      "13/13 [==============================] - 0s 1ms/step - loss: 0.4196 - accuracy: 0.8350 - val_loss: 0.5327 - val_accuracy: 0.8000\n",
      "Epoch 10/20\n",
      "13/13 [==============================] - 0s 1ms/step - loss: 0.4165 - accuracy: 0.8500 - val_loss: 0.5659 - val_accuracy: 0.7900\n",
      "Epoch 11/20\n",
      "13/13 [==============================] - 0s 1ms/step - loss: 0.4115 - accuracy: 0.8400 - val_loss: 0.5133 - val_accuracy: 0.8100\n",
      "Epoch 12/20\n",
      "13/13 [==============================] - 0s 1ms/step - loss: 0.4059 - accuracy: 0.8450 - val_loss: 0.5113 - val_accuracy: 0.7800\n",
      "Epoch 13/20\n",
      "13/13 [==============================] - 0s 1ms/step - loss: 0.4039 - accuracy: 0.8438 - val_loss: 0.5083 - val_accuracy: 0.7900\n",
      "Epoch 14/20\n",
      "13/13 [==============================] - 0s 1ms/step - loss: 0.3960 - accuracy: 0.8562 - val_loss: 0.5155 - val_accuracy: 0.8000\n",
      "Epoch 15/20\n",
      "13/13 [==============================] - 0s 1ms/step - loss: 0.3940 - accuracy: 0.8450 - val_loss: 0.5091 - val_accuracy: 0.8100\n",
      "Epoch 16/20\n",
      "13/13 [==============================] - 0s 1ms/step - loss: 0.3948 - accuracy: 0.8500 - val_loss: 0.5059 - val_accuracy: 0.8000\n",
      "Epoch 17/20\n",
      "13/13 [==============================] - 0s 1ms/step - loss: 0.3848 - accuracy: 0.8487 - val_loss: 0.5119 - val_accuracy: 0.8000\n",
      "Epoch 18/20\n",
      "13/13 [==============================] - 0s 1ms/step - loss: 0.3806 - accuracy: 0.8462 - val_loss: 0.5087 - val_accuracy: 0.8100\n",
      "Epoch 19/20\n",
      "13/13 [==============================] - 0s 1ms/step - loss: 0.3821 - accuracy: 0.8562 - val_loss: 0.5006 - val_accuracy: 0.7800\n",
      "Epoch 20/20\n",
      "13/13 [==============================] - 0s 1ms/step - loss: 0.3748 - accuracy: 0.8512 - val_loss: 0.5046 - val_accuracy: 0.7900\n"
     ]
    }
   ],
   "source": [
    "# Building and Training the model\n",
    "\n",
    "from tensorflow import keras\n",
    "from tensorflow.keras import optimizers\n",
    "from tensorflow.keras.regularizers import l2\n",
    "\n",
    "# set up hyperparameters for the model\n",
    "NB_CLASSES = 3\n",
    "N_HIDDEN = 128\n",
    "BATCH_SIZE = 64\n",
    "VERBOSE = 1\n",
    "EPOCHS = 20\n",
    "VALIDATION_SPLIT = 0.2\n",
    "\n",
    "model = tf.keras.models.Sequential()\n",
    "\n",
    "# Add a hidden layer\n",
    "model.add(keras.layers.Dense(N_HIDDEN,\n",
    "                             input_shape = (7,),\n",
    "                             name = \"Hidden_layer_1\",\n",
    "                             activation = 'relu'))\n",
    "\n",
    "# Add a hidden layer\n",
    "model.add(keras.layers.Dense(N_HIDDEN,\n",
    "                             name = \"Hidden_layer_2\",\n",
    "                             activation = 'relu'))\n",
    "\n",
    "# Add output layer\n",
    "model.add(keras.layers.Dense(3,\n",
    "                             name = \"Output_layer\",\n",
    "                             activation = \"softmax\"))\n",
    "\n",
    "# compile the model\n",
    "model.compile(loss=\"categorical_crossentropy\",\n",
    "              metrics=['accuracy'])\n",
    "\n",
    "# summarise the model\n",
    "model.summary()\n",
    "\n",
    "print(\"\\nTraining in progress\\n------------------\")\n",
    "\n",
    "# Train the model\n",
    "history = model.fit(x_data,\n",
    "                    y_data,\n",
    "                    batch_size = BATCH_SIZE,\n",
    "                    epochs = EPOCHS,\n",
    "                    verbose = VERBOSE,\n",
    "                    validation_split = VALIDATION_SPLIT)\n",
    "\n"
   ]
  },
  {
   "cell_type": "code",
   "execution_count": 30,
   "id": "7fd78075",
   "metadata": {},
   "outputs": [
    {
     "name": "stdout",
     "output_type": "stream",
     "text": [
      "\n",
      "Training accuracy\n"
     ]
    },
    {
     "data": {
      "image/png": "[encoded data removed]",
      "text/plain": [
       "<Figure size 800x600 with 1 Axes>"
      ]
     },
     "metadata": {},
     "output_type": "display_data"
    }
   ],
   "source": [
    "# plot accuracy of model after each epoch\n",
    "print(\"\\nTraining accuracy\")\n",
    "pd.DataFrame(history.history)['accuracy'].plot(figsize=(8,6))\n",
    "plt.title(\"Accuracy after each epoch\")\n",
    "plt.show()"
   ]
  },
  {
   "cell_type": "code",
   "execution_count": 31,
   "id": "8a6c6b6e",
   "metadata": {},
   "outputs": [
    {
     "name": "stdout",
     "output_type": "stream",
     "text": [
      "4/4 [==============================] - 0s 930us/step - loss: 0.3846 - accuracy: 0.8700\n"
     ]
    },
    {
     "data": {
      "text/plain": [
       "[0.3846210241317749, 0.8700000047683716]"
      ]
     },
     "execution_count": 31,
     "metadata": {},
     "output_type": "execute_result"
    }
   ],
   "source": [
    "# evaluate the model\n",
    "model.evaluate(x_test,y_test)"
   ]
  },
  {
   "cell_type": "code",
   "execution_count": 34,
   "id": "a112d1a1",
   "metadata": {},
   "outputs": [
    {
     "name": "stdout",
     "output_type": "stream",
     "text": [
      "WARNING:tensorflow:Model was constructed with shape (None, 7) for input KerasTensor(type_spec=TensorSpec(shape=(None, 7), dtype=tf.float32, name='Hidden_layer_1_input'), name='Hidden_layer_1_input', description=\"created by layer 'Hidden_layer_1_input'\"), but it was called on an input with incompatible shape (None,).\n"
     ]
    },
    {
     "ename": "ValueError",
     "evalue": "in user code:\n\n    File \"/Users/syanthan/anaconda3/envs/deeplearning/lib/python3.8/site-packages/keras/engine/training.py\", line 2137, in predict_function  *\n        return step_function(self, iterator)\n    File \"/Users/syanthan/anaconda3/envs/deeplearning/lib/python3.8/site-packages/keras/engine/training.py\", line 2123, in step_function  **\n        outputs = model.distribute_strategy.run(run_step, args=(data,))\n    File \"/Users/syanthan/anaconda3/envs/deeplearning/lib/python3.8/site-packages/keras/engine/training.py\", line 2111, in run_step  **\n        outputs = model.predict_step(data)\n    File \"/Users/syanthan/anaconda3/envs/deeplearning/lib/python3.8/site-packages/keras/engine/training.py\", line 2079, in predict_step\n        return self(x, training=False)\n    File \"/Users/syanthan/anaconda3/envs/deeplearning/lib/python3.8/site-packages/keras/utils/traceback_utils.py\", line 70, in error_handler\n        raise e.with_traceback(filtered_tb) from None\n    File \"/Users/syanthan/anaconda3/envs/deeplearning/lib/python3.8/site-packages/keras/engine/input_spec.py\", line 250, in assert_input_compatibility\n        raise ValueError(\n\n    ValueError: Exception encountered when calling layer 'sequential_1' (type Sequential).\n    \n    Input 0 of layer \"Hidden_layer_1\" is incompatible with the layer: expected min_ndim=2, found ndim=1. Full shape received: (None,)\n    \n    Call arguments received by layer 'sequential_1' (type Sequential):\n      • inputs=tf.Tensor(shape=(None,), dtype=int64)\n      • training=False\n      • mask=None\n",
     "output_type": "error",
     "traceback": [
      "\u001b[0;31m---------------------------------------------------------------------------\u001b[0m",
      "\u001b[0;31mValueError\u001b[0m                                Traceback (most recent call last)",
      "Cell \u001b[0;32mIn[34], line 11\u001b[0m\n\u001b[1;32m      8\u001b[0m ERROR_1002 \u001b[38;5;241m=\u001b[39m \u001b[38;5;241m0\u001b[39m\n\u001b[1;32m      9\u001b[0m ERROR_1003 \u001b[38;5;241m=\u001b[39m \u001b[38;5;241m1\u001b[39m\n\u001b[0;32m---> 11\u001b[0m prediction \u001b[38;5;241m=\u001b[39m np\u001b[38;5;241m.\u001b[39margmax(\u001b[43mmodel\u001b[49m\u001b[38;5;241;43m.\u001b[39;49m\u001b[43mpredict\u001b[49m\u001b[43m(\u001b[49m\u001b[43m[\u001b[49m\u001b[43mCPU_LOAD\u001b[49m\u001b[43m,\u001b[49m\u001b[43mMEMORY_LEAK_LOAD\u001b[49m\u001b[43m,\u001b[49m\u001b[43mDELAY\u001b[49m\u001b[43m,\u001b[49m\u001b[43mERROR_1000\u001b[49m\u001b[43m,\u001b[49m\u001b[43mERROR_1001\u001b[49m\u001b[43m,\u001b[49m\u001b[43mERROR_1002\u001b[49m\u001b[43m,\u001b[49m\u001b[43mERROR_1003\u001b[49m\u001b[43m]\u001b[49m\u001b[43m)\u001b[49m,axis\u001b[38;5;241m=\u001b[39m\u001b[38;5;241m1\u001b[39m)\n\u001b[1;32m     12\u001b[0m \u001b[38;5;28mprint\u001b[39m(\u001b[38;5;124m\"\u001b[39m\u001b[38;5;124mFrom the raw data it is observed that root cause: \u001b[39m\u001b[38;5;124m\"\u001b[39m,label_encoder\u001b[38;5;241m.\u001b[39minverse_transform(prediction))\n",
      "File \u001b[0;32m~/anaconda3/envs/deeplearning/lib/python3.8/site-packages/keras/utils/traceback_utils.py:70\u001b[0m, in \u001b[0;36mfilter_traceback.<locals>.error_handler\u001b[0;34m(*args, **kwargs)\u001b[0m\n\u001b[1;32m     67\u001b[0m     filtered_tb \u001b[38;5;241m=\u001b[39m _process_traceback_frames(e\u001b[38;5;241m.\u001b[39m__traceback__)\n\u001b[1;32m     68\u001b[0m     \u001b[38;5;66;03m# To get the full stack trace, call:\u001b[39;00m\n\u001b[1;32m     69\u001b[0m     \u001b[38;5;66;03m# `tf.debugging.disable_traceback_filtering()`\u001b[39;00m\n\u001b[0;32m---> 70\u001b[0m     \u001b[38;5;28;01mraise\u001b[39;00m e\u001b[38;5;241m.\u001b[39mwith_traceback(filtered_tb) \u001b[38;5;28;01mfrom\u001b[39;00m \u001b[38;5;28;01mNone\u001b[39;00m\n\u001b[1;32m     71\u001b[0m \u001b[38;5;28;01mfinally\u001b[39;00m:\n\u001b[1;32m     72\u001b[0m     \u001b[38;5;28;01mdel\u001b[39;00m filtered_tb\n",
      "File \u001b[0;32m/var/folders/h8/f0jh18c50250m_6y7l0w5hqr0000gn/T/__autograph_generated_filek_3bx5fe.py:15\u001b[0m, in \u001b[0;36mouter_factory.<locals>.inner_factory.<locals>.tf__predict_function\u001b[0;34m(iterator)\u001b[0m\n\u001b[1;32m     13\u001b[0m \u001b[38;5;28;01mtry\u001b[39;00m:\n\u001b[1;32m     14\u001b[0m     do_return \u001b[38;5;241m=\u001b[39m \u001b[38;5;28;01mTrue\u001b[39;00m\n\u001b[0;32m---> 15\u001b[0m     retval_ \u001b[38;5;241m=\u001b[39m ag__\u001b[38;5;241m.\u001b[39mconverted_call(ag__\u001b[38;5;241m.\u001b[39mld(step_function), (ag__\u001b[38;5;241m.\u001b[39mld(\u001b[38;5;28mself\u001b[39m), ag__\u001b[38;5;241m.\u001b[39mld(iterator)), \u001b[38;5;28;01mNone\u001b[39;00m, fscope)\n\u001b[1;32m     16\u001b[0m \u001b[38;5;28;01mexcept\u001b[39;00m:\n\u001b[1;32m     17\u001b[0m     do_return \u001b[38;5;241m=\u001b[39m \u001b[38;5;28;01mFalse\u001b[39;00m\n",
      "\u001b[0;31mValueError\u001b[0m: in user code:\n\n    File \"/Users/syanthan/anaconda3/envs/deeplearning/lib/python3.8/site-packages/keras/engine/training.py\", line 2137, in predict_function  *\n        return step_function(self, iterator)\n    File \"/Users/syanthan/anaconda3/envs/deeplearning/lib/python3.8/site-packages/keras/engine/training.py\", line 2123, in step_function  **\n        outputs = model.distribute_strategy.run(run_step, args=(data,))\n    File \"/Users/syanthan/anaconda3/envs/deeplearning/lib/python3.8/site-packages/keras/engine/training.py\", line 2111, in run_step  **\n        outputs = model.predict_step(data)\n    File \"/Users/syanthan/anaconda3/envs/deeplearning/lib/python3.8/site-packages/keras/engine/training.py\", line 2079, in predict_step\n        return self(x, training=False)\n    File \"/Users/syanthan/anaconda3/envs/deeplearning/lib/python3.8/site-packages/keras/utils/traceback_utils.py\", line 70, in error_handler\n        raise e.with_traceback(filtered_tb) from None\n    File \"/Users/syanthan/anaconda3/envs/deeplearning/lib/python3.8/site-packages/keras/engine/input_spec.py\", line 250, in assert_input_compatibility\n        raise ValueError(\n\n    ValueError: Exception encountered when calling layer 'sequential_1' (type Sequential).\n    \n    Input 0 of layer \"Hidden_layer_1\" is incompatible with the layer: expected min_ndim=2, found ndim=1. Full shape received: (None,)\n    \n    Call arguments received by layer 'sequential_1' (type Sequential):\n      • inputs=tf.Tensor(shape=(None,), dtype=int64)\n      • training=False\n      • mask=None\n"
     ]
    }
   ],
   "source": [
    "import numpy as np\n",
    "# raw predicting the model\n",
    "CPU_LOAD = 1\n",
    "MEMORY_LEAK_LOAD = 0\n",
    "DELAY = 1\n",
    "ERROR_1000 = 0\n",
    "ERROR_1001 = 1\n",
    "ERROR_1002 = 0\n",
    "ERROR_1003 = 1\n",
    "\n",
    "prediction = np.argmax(model.predict([[CPU_LOAD,MEMORY_LEAK_LOAD,DELAY,ERROR_1000,ERROR_1001,ERROR_1002,ERROR_1003]),axis=1)\n",
    "print(\"From the raw data it is observed that root cause: \",label_encoder.inverse_transform(prediction))"
   ]
  }
 ],
 "metadata": {
  "kernelspec": {
   "display_name": "Python 3 (ipykernel)",
   "language": "python",
   "name": "python3"
  },
  "language_info": {
   "codemirror_mode": {
    "name": "ipython",
    "version": 3
   },
   "file_extension": ".py",
   "mimetype": "text/x-python",
   "name": "python",
   "nbconvert_exporter": "python",
   "pygments_lexer": "ipython3",
   "version": "3.8.18"
  }
 },
 "nbformat": 4,
 "nbformat_minor": 5
}
